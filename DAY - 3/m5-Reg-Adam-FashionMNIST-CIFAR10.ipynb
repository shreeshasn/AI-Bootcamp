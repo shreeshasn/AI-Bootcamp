{
 "cells": [
  {
   "cell_type": "code",
   "execution_count": 9,
   "id": "a7b66d00",
   "metadata": {},
   "outputs": [],
   "source": [
    "from keras.models import Sequential \n",
    "from keras.layers import Dense,Flatten \n",
    "from keras.datasets import fashion_mnist,cifar10\n",
    "from keras.utils import to_categorical\n",
    "from keras.optimizers import Adam\n",
    "from keras import regularizers\n",
    "import matplotlib.pyplot as plt"
   ]
  },
  {
   "cell_type": "code",
   "execution_count": 2,
   "id": "9cab53a8",
   "metadata": {},
   "outputs": [],
   "source": [
    "(x_train,y_train),(x_test,y_test)=cifar10.load_data()\n",
    "\n",
    "#normalize\n",
    "x_train=x_train.astype('float32')/255.0\n",
    "x_test=x_test.astype('float32')/255.0\n",
    "\n",
    "#to_categorical(when we use softmax we need to use to_categorial)\n",
    "y_train=to_categorical(y_train)\n",
    "y_test=to_categorical(y_test)\n"
   ]
  },
  {
   "cell_type": "code",
   "execution_count": 3,
   "id": "89ecc2c9",
   "metadata": {},
   "outputs": [
    {
     "name": "stderr",
     "output_type": "stream",
     "text": [
      "d:\\Engineering\\PROJECTS\\AI Bootcamp\\.venv\\lib\\site-packages\\keras\\src\\layers\\reshaping\\flatten.py:37: UserWarning: Do not pass an `input_shape`/`input_dim` argument to a layer. When using Sequential models, prefer using an `Input(shape)` object as the first layer in the model instead.\n",
      "  super().__init__(**kwargs)\n"
     ]
    }
   ],
   "source": [
    "#architecture\n",
    "model_base=Sequential()\n",
    "model_base.add(Flatten(input_shape=(32,32,3)))\n",
    "model_base.add(Dense(1024,activation='relu'))\n",
    "model_base.add(Dense(512,activation='relu'))\n",
    "model_base.add(Dense(256,activation='relu'))\n",
    "model_base.add(Dense(128,activation='relu'))\n",
    "model_base.add(Dense(64,activation='relu'))\n",
    "model_base.add(Dense(10,activation='softmax'))#we have 100 classes"
   ]
  },
  {
   "cell_type": "code",
   "execution_count": 4,
   "id": "2fa8c2d4",
   "metadata": {},
   "outputs": [
    {
     "name": "stdout",
     "output_type": "stream",
     "text": [
      "Epoch 1/10\n",
      "\u001b[1m313/313\u001b[0m \u001b[32m━━━━━━━━━━━━━━━━━━━━\u001b[0m\u001b[37m\u001b[0m \u001b[1m13s\u001b[0m 38ms/step - accuracy: 0.2745 - loss: 1.9650 - val_accuracy: 0.3385 - val_loss: 1.8473\n",
      "Epoch 2/10\n",
      "\u001b[1m313/313\u001b[0m \u001b[32m━━━━━━━━━━━━━━━━━━━━\u001b[0m\u001b[37m\u001b[0m \u001b[1m12s\u001b[0m 38ms/step - accuracy: 0.3665 - loss: 1.7477 - val_accuracy: 0.3794 - val_loss: 1.7351\n",
      "Epoch 3/10\n",
      "\u001b[1m313/313\u001b[0m \u001b[32m━━━━━━━━━━━━━━━━━━━━\u001b[0m\u001b[37m\u001b[0m \u001b[1m11s\u001b[0m 36ms/step - accuracy: 0.4028 - loss: 1.6628 - val_accuracy: 0.3996 - val_loss: 1.6696\n",
      "Epoch 4/10\n",
      "\u001b[1m313/313\u001b[0m \u001b[32m━━━━━━━━━━━━━━━━━━━━\u001b[0m\u001b[37m\u001b[0m \u001b[1m11s\u001b[0m 36ms/step - accuracy: 0.4299 - loss: 1.5885 - val_accuracy: 0.4187 - val_loss: 1.6329\n",
      "Epoch 5/10\n",
      "\u001b[1m313/313\u001b[0m \u001b[32m━━━━━━━━━━━━━━━━━━━━\u001b[0m\u001b[37m\u001b[0m \u001b[1m11s\u001b[0m 36ms/step - accuracy: 0.4470 - loss: 1.5335 - val_accuracy: 0.4493 - val_loss: 1.5358\n",
      "Epoch 6/10\n",
      "\u001b[1m313/313\u001b[0m \u001b[32m━━━━━━━━━━━━━━━━━━━━\u001b[0m\u001b[37m\u001b[0m \u001b[1m13s\u001b[0m 40ms/step - accuracy: 0.4667 - loss: 1.4890 - val_accuracy: 0.4578 - val_loss: 1.5307\n",
      "Epoch 7/10\n",
      "\u001b[1m313/313\u001b[0m \u001b[32m━━━━━━━━━━━━━━━━━━━━\u001b[0m\u001b[37m\u001b[0m \u001b[1m16s\u001b[0m 50ms/step - accuracy: 0.4783 - loss: 1.4564 - val_accuracy: 0.4523 - val_loss: 1.5472\n",
      "Epoch 8/10\n",
      "\u001b[1m313/313\u001b[0m \u001b[32m━━━━━━━━━━━━━━━━━━━━\u001b[0m\u001b[37m\u001b[0m \u001b[1m15s\u001b[0m 48ms/step - accuracy: 0.4906 - loss: 1.4196 - val_accuracy: 0.4782 - val_loss: 1.4820\n",
      "Epoch 9/10\n",
      "\u001b[1m313/313\u001b[0m \u001b[32m━━━━━━━━━━━━━━━━━━━━\u001b[0m\u001b[37m\u001b[0m \u001b[1m15s\u001b[0m 47ms/step - accuracy: 0.5045 - loss: 1.3777 - val_accuracy: 0.4832 - val_loss: 1.4900\n",
      "Epoch 10/10\n",
      "\u001b[1m313/313\u001b[0m \u001b[32m━━━━━━━━━━━━━━━━━━━━\u001b[0m\u001b[37m\u001b[0m \u001b[1m13s\u001b[0m 42ms/step - accuracy: 0.5181 - loss: 1.3535 - val_accuracy: 0.4882 - val_loss: 1.4637\n"
     ]
    }
   ],
   "source": [
    "#compile\n",
    "model_base.compile(optimizer=Adam(learning_rate=0.001),loss='categorical_crossentropy',metrics=['accuracy'])\n",
    "\n",
    "#train\n",
    "history=model_base.fit(x_train,y_train,epochs=10,batch_size=128,validation_split=0.2)"
   ]
  },
  {
   "cell_type": "code",
   "execution_count": 5,
   "id": "f599f594",
   "metadata": {},
   "outputs": [
    {
     "name": "stdout",
     "output_type": "stream",
     "text": [
      "\u001b[1m313/313\u001b[0m \u001b[32m━━━━━━━━━━━━━━━━━━━━\u001b[0m\u001b[37m\u001b[0m \u001b[1m2s\u001b[0m 5ms/step - accuracy: 0.4927 - loss: 1.4339\n",
      "test accuracy:0.4927000105381012\n"
     ]
    }
   ],
   "source": [
    "#evaluate\n",
    "loss,test_accuracy=model_base.evaluate(x_test,y_test)\n",
    "print(f\"test accuracy:{test_accuracy}\")"
   ]
  },
  {
   "cell_type": "code",
   "execution_count": 6,
   "id": "3d9f838e",
   "metadata": {},
   "outputs": [
    {
     "name": "stdout",
     "output_type": "stream",
     "text": [
      "Epoch 1/10\n",
      "\u001b[1m313/313\u001b[0m \u001b[32m━━━━━━━━━━━━━━━━━━━━\u001b[0m\u001b[37m\u001b[0m \u001b[1m16s\u001b[0m 44ms/step - accuracy: 0.2769 - loss: 2.1433 - val_accuracy: 0.3441 - val_loss: 1.9285\n",
      "Epoch 2/10\n",
      "\u001b[1m313/313\u001b[0m \u001b[32m━━━━━━━━━━━━━━━━━━━━\u001b[0m\u001b[37m\u001b[0m \u001b[1m14s\u001b[0m 43ms/step - accuracy: 0.3697 - loss: 1.8512 - val_accuracy: 0.3661 - val_loss: 1.8662\n",
      "Epoch 3/10\n",
      "\u001b[1m313/313\u001b[0m \u001b[32m━━━━━━━━━━━━━━━━━━━━\u001b[0m\u001b[37m\u001b[0m \u001b[1m15s\u001b[0m 48ms/step - accuracy: 0.4010 - loss: 1.7545 - val_accuracy: 0.4029 - val_loss: 1.8123\n",
      "Epoch 4/10\n",
      "\u001b[1m313/313\u001b[0m \u001b[32m━━━━━━━━━━━━━━━━━━━━\u001b[0m\u001b[37m\u001b[0m \u001b[1m15s\u001b[0m 49ms/step - accuracy: 0.4233 - loss: 1.6863 - val_accuracy: 0.4018 - val_loss: 1.7380\n",
      "Epoch 5/10\n",
      "\u001b[1m313/313\u001b[0m \u001b[32m━━━━━━━━━━━━━━━━━━━━\u001b[0m\u001b[37m\u001b[0m \u001b[1m15s\u001b[0m 49ms/step - accuracy: 0.4386 - loss: 1.6312 - val_accuracy: 0.4457 - val_loss: 1.6254\n",
      "Epoch 6/10\n",
      "\u001b[1m313/313\u001b[0m \u001b[32m━━━━━━━━━━━━━━━━━━━━\u001b[0m\u001b[37m\u001b[0m \u001b[1m15s\u001b[0m 48ms/step - accuracy: 0.4538 - loss: 1.5974 - val_accuracy: 0.4496 - val_loss: 1.6235\n",
      "Epoch 7/10\n",
      "\u001b[1m313/313\u001b[0m \u001b[32m━━━━━━━━━━━━━━━━━━━━\u001b[0m\u001b[37m\u001b[0m \u001b[1m15s\u001b[0m 49ms/step - accuracy: 0.4677 - loss: 1.5544 - val_accuracy: 0.4575 - val_loss: 1.5981\n",
      "Epoch 8/10\n",
      "\u001b[1m313/313\u001b[0m \u001b[32m━━━━━━━━━━━━━━━━━━━━\u001b[0m\u001b[37m\u001b[0m \u001b[1m16s\u001b[0m 50ms/step - accuracy: 0.4795 - loss: 1.5204 - val_accuracy: 0.4586 - val_loss: 1.5992\n",
      "Epoch 9/10\n",
      "\u001b[1m313/313\u001b[0m \u001b[32m━━━━━━━━━━━━━━━━━━━━\u001b[0m\u001b[37m\u001b[0m \u001b[1m15s\u001b[0m 48ms/step - accuracy: 0.4868 - loss: 1.4972 - val_accuracy: 0.4616 - val_loss: 1.5968\n",
      "Epoch 10/10\n",
      "\u001b[1m313/313\u001b[0m \u001b[32m━━━━━━━━━━━━━━━━━━━━\u001b[0m\u001b[37m\u001b[0m \u001b[1m15s\u001b[0m 46ms/step - accuracy: 0.4945 - loss: 1.4727 - val_accuracy: 0.4706 - val_loss: 1.5693\n",
      "\u001b[1m313/313\u001b[0m \u001b[32m━━━━━━━━━━━━━━━━━━━━\u001b[0m\u001b[37m\u001b[0m \u001b[1m2s\u001b[0m 7ms/step - accuracy: 0.4766 - loss: 1.5413\n",
      "test accuracy:0.4765999913215637\n"
     ]
    }
   ],
   "source": [
    "#*#\n",
    "model_le4=Sequential()\n",
    "model_le4.add(Flatten(input_shape=(32,32,3)))\n",
    "model_le4.add(Dense(1024,activation='relu',kernel_regularizer=regularizers.l2(1e-4)))\n",
    "model_le4.add(Dense(512,activation='relu',kernel_regularizer=regularizers.l2(1e-4)))\n",
    "model_le4.add(Dense(256,activation='relu',kernel_regularizer=regularizers.l2(1e-4)))\n",
    "model_le4.add(Dense(128,activation='relu',kernel_regularizer=regularizers.l2(1e-4)))\n",
    "model_le4.add(Dense(64,activation='relu',kernel_regularizer=regularizers.l2(1e-4)))\n",
    "model_le4.add(Dense(10,activation='softmax',kernel_regularizer=regularizers.l2(1e-4)))#we have 100 classes\n",
    "\n",
    "model_le4.compile(optimizer=Adam(learning_rate=0.001),loss='categorical_crossentropy',metrics=['accuracy'])\n",
    "#train\n",
    "history_le4=model_le4.fit(x_train,y_train,epochs=10,batch_size=128,validation_split=0.2)\n",
    "\n",
    "#evaluate\n",
    "loss,test_accuracy=model_le4.evaluate(x_test,y_test)\n",
    "print(f\"test accuracy:{test_accuracy}\")"
   ]
  },
  {
   "cell_type": "code",
   "execution_count": 7,
   "id": "16707b7a",
   "metadata": {},
   "outputs": [
    {
     "name": "stdout",
     "output_type": "stream",
     "text": [
      "Epoch 1/10\n",
      "\u001b[1m313/313\u001b[0m \u001b[32m━━━━━━━━━━━━━━━━━━━━\u001b[0m\u001b[37m\u001b[0m \u001b[1m16s\u001b[0m 44ms/step - accuracy: 0.2461 - loss: 5.0279 - val_accuracy: 0.2523 - val_loss: 2.6453\n",
      "Epoch 2/10\n",
      "\u001b[1m313/313\u001b[0m \u001b[32m━━━━━━━━━━━━━━━━━━━━\u001b[0m\u001b[37m\u001b[0m \u001b[1m13s\u001b[0m 41ms/step - accuracy: 0.2757 - loss: 2.3824 - val_accuracy: 0.2658 - val_loss: 2.3215\n",
      "Epoch 3/10\n",
      "\u001b[1m313/313\u001b[0m \u001b[32m━━━━━━━━━━━━━━━━━━━━\u001b[0m\u001b[37m\u001b[0m \u001b[1m16s\u001b[0m 50ms/step - accuracy: 0.2896 - loss: 2.2094 - val_accuracy: 0.3093 - val_loss: 2.1540\n",
      "Epoch 4/10\n",
      "\u001b[1m313/313\u001b[0m \u001b[32m━━━━━━━━━━━━━━━━━━━━\u001b[0m\u001b[37m\u001b[0m \u001b[1m15s\u001b[0m 48ms/step - accuracy: 0.2948 - loss: 2.1502 - val_accuracy: 0.2919 - val_loss: 2.1721\n",
      "Epoch 5/10\n",
      "\u001b[1m313/313\u001b[0m \u001b[32m━━━━━━━━━━━━━━━━━━━━\u001b[0m\u001b[37m\u001b[0m \u001b[1m14s\u001b[0m 45ms/step - accuracy: 0.3043 - loss: 2.1200 - val_accuracy: 0.3050 - val_loss: 2.1340\n",
      "Epoch 6/10\n",
      "\u001b[1m313/313\u001b[0m \u001b[32m━━━━━━━━━━━━━━━━━━━━\u001b[0m\u001b[37m\u001b[0m \u001b[1m14s\u001b[0m 45ms/step - accuracy: 0.3135 - loss: 2.0995 - val_accuracy: 0.3102 - val_loss: 2.1053\n",
      "Epoch 7/10\n",
      "\u001b[1m313/313\u001b[0m \u001b[32m━━━━━━━━━━━━━━━━━━━━\u001b[0m\u001b[37m\u001b[0m \u001b[1m14s\u001b[0m 45ms/step - accuracy: 0.3158 - loss: 2.0892 - val_accuracy: 0.3139 - val_loss: 2.1041\n",
      "Epoch 8/10\n",
      "\u001b[1m313/313\u001b[0m \u001b[32m━━━━━━━━━━━━━━━━━━━━\u001b[0m\u001b[37m\u001b[0m \u001b[1m14s\u001b[0m 45ms/step - accuracy: 0.3170 - loss: 2.0887 - val_accuracy: 0.3077 - val_loss: 2.1021\n",
      "Epoch 9/10\n",
      "\u001b[1m313/313\u001b[0m \u001b[32m━━━━━━━━━━━━━━━━━━━━\u001b[0m\u001b[37m\u001b[0m \u001b[1m14s\u001b[0m 45ms/step - accuracy: 0.3241 - loss: 2.0741 - val_accuracy: 0.3285 - val_loss: 2.0858\n",
      "Epoch 10/10\n",
      "\u001b[1m313/313\u001b[0m \u001b[32m━━━━━━━━━━━━━━━━━━━━\u001b[0m\u001b[37m\u001b[0m \u001b[1m14s\u001b[0m 46ms/step - accuracy: 0.3259 - loss: 2.0656 - val_accuracy: 0.3314 - val_loss: 2.0583\n",
      "\u001b[1m313/313\u001b[0m \u001b[32m━━━━━━━━━━━━━━━━━━━━\u001b[0m\u001b[37m\u001b[0m \u001b[1m2s\u001b[0m 7ms/step - accuracy: 0.3315 - loss: 2.0446\n"
     ]
    }
   ],
   "source": [
    "#*#\n",
    "model_le2=Sequential()\n",
    "model_le2.add(Flatten(input_shape=(32,32,3)))\n",
    "model_le2.add(Dense(1024,activation='relu',kernel_regularizer=regularizers.l2(1e-2)))\n",
    "model_le2.add(Dense(512,activation='relu',kernel_regularizer=regularizers.l2(1e-2)))\n",
    "model_le2.add(Dense(256,activation='relu',kernel_regularizer=regularizers.l2(1e-2)))\n",
    "model_le2.add(Dense(128,activation='relu',kernel_regularizer=regularizers.l2(1e-2)))\n",
    "model_le2.add(Dense(64,activation='relu',kernel_regularizer=regularizers.l2(1e-2)))\n",
    "model_le2.add(Dense(10,activation='softmax',kernel_regularizer=regularizers.l2(1e-2)))#we have 100 classes\n",
    "\n",
    "\n",
    "model_le2.compile(optimizer=Adam(learning_rate=0.001),loss='categorical_crossentropy',metrics=['accuracy'])\n",
    "#train\n",
    "history_le2=model_le2.fit(x_train,y_train,epochs=10,batch_size=128,validation_split=0.2)\n",
    "\n",
    "#evaluate\n",
    "loss,test_accuracy=model_le2.evaluate(x_test,y_test)"
   ]
  },
  {
   "cell_type": "code",
   "execution_count": 12,
   "id": "b37da162",
   "metadata": {},
   "outputs": [
    {
     "data": {
      "image/png": "[encoded data removed]",
      "text/plain": [
       "<Figure size 640x480 with 1 Axes>"
      ]
     },
     "metadata": {},
     "output_type": "display_data"
    }
   ],
   "source": [
    "#visualization\n",
    "plt.plot(history.history['val_accuracy'],label='withou2 regularizer',color='red')\n",
    "plt.plot(history_le4.history['val_accuracy'],label='le4',color='blue')\n",
    "plt.plot(history_le2.history['val_accuracy'],label='le2',color='green')\n",
    "plt.title(\"validation accuracy\")\n",
    "plt.xlabel(\"epochs\")\n",
    "plt.ylabel(\"accuracy\")\n",
    "plt.legend()\n",
    "plt.show()"
   ]
  }
 ],
 "metadata": {
  "kernelspec": {
   "display_name": ".venv",
   "language": "python",
   "name": "python3"
  },
  "language_info": {
   "codemirror_mode": {
    "name": "ipython",
    "version": 3
   },
   "file_extension": ".py",
   "mimetype": "text/x-python",
   "name": "python",
   "nbconvert_exporter": "python",
   "pygments_lexer": "ipython3",
   "version": "3.10.11"
  }
 },
 "nbformat": 4,
 "nbformat_minor": 5
}
